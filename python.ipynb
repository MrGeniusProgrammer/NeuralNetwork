{
 "cells": [
  {
   "cell_type": "code",
   "execution_count": 4,
   "metadata": {},
   "outputs": [],
   "source": [
    "\n",
    "import numpy as np\n",
    "import idx2numpy\n",
    "import matplotlib.pyplot as plt"
   ]
  },
  {
   "cell_type": "code",
   "execution_count": 5,
   "metadata": {},
   "outputs": [
    {
     "data": {
      "text/plain": [
       "<matplotlib.image.AxesImage at 0x1ff0353e290>"
      ]
     },
     "execution_count": 5,
     "metadata": {},
     "output_type": "execute_result"
    },
    {
     "data": {
      "image/png": "[encoded data removed]",
      "text/plain": [
       "<Figure size 640x480 with 1 Axes>"
      ]
     },
     "metadata": {},
     "output_type": "display_data"
    }
   ],
   "source": [
    "imagefile = 'F:\\\\DATA\\\\mnist\\\\train-images.idx3-ubyte'\n",
    "imageArray = idx2numpy.convert_from_file(imagefile)\n",
    "plt.imshow(imageArray[999], cmap=plt.cm.binary)"
   ]
  },
  {
   "cell_type": "code",
   "execution_count": 6,
   "metadata": {},
   "outputs": [
    {
     "data": {
      "text/plain": [
       "1"
      ]
     },
     "execution_count": 6,
     "metadata": {},
     "output_type": "execute_result"
    }
   ],
   "source": [
    "labelfile = 'F:\\\\DATA\\\\mnist\\\\train-labels.idx1-ubyte'\n",
    "labelArray = idx2numpy.convert_from_file(labelfile)\n",
    "labelArray[99]"
   ]
  },
  {
   "cell_type": "code",
   "execution_count": 7,
   "metadata": {},
   "outputs": [
    {
     "name": "stdout",
     "output_type": "stream",
     "text": [
      "[[0 0]\n",
      " [1 1]\n",
      " [0 2]\n",
      " [1 0]\n",
      " [0 1]\n",
      " [1 2]\n",
      " [0 0]\n",
      " [1 1]\n",
      " [0 2]\n",
      " [1 0]\n",
      " [0 1]\n",
      " [1 2]\n",
      " [0 0]\n",
      " [1 1]\n",
      " [0 2]\n",
      " [1 0]\n",
      " [0 1]\n",
      " [1 2]\n",
      " [0 0]\n",
      " [1 1]\n",
      " [0 2]\n",
      " [1 0]\n",
      " [0 1]\n",
      " [1 2]\n",
      " [0 0]\n",
      " [1 1]\n",
      " [0 2]\n",
      " [1 0]\n",
      " [0 1]\n",
      " [1 2]\n",
      " [0 0]\n",
      " [1 1]\n",
      " [0 2]\n",
      " [1 0]\n",
      " [0 1]\n",
      " [1 2]\n",
      " [0 0]\n",
      " [1 1]\n",
      " [0 2]\n",
      " [1 0]\n",
      " [0 1]\n",
      " [1 2]\n",
      " [0 0]\n",
      " [1 1]\n",
      " [0 2]\n",
      " [1 0]\n",
      " [0 1]\n",
      " [1 2]\n",
      " [0 0]\n",
      " [1 1]\n",
      " [0 2]\n",
      " [1 0]\n",
      " [0 1]\n",
      " [1 2]\n",
      " [0 0]\n",
      " [1 1]\n",
      " [0 2]\n",
      " [1 0]\n",
      " [0 1]\n",
      " [1 2]\n",
      " [0 0]\n",
      " [1 1]\n",
      " [0 2]\n",
      " [1 0]\n",
      " [0 1]\n",
      " [1 2]\n",
      " [0 0]\n",
      " [1 1]\n",
      " [0 2]\n",
      " [1 0]\n",
      " [0 1]\n",
      " [1 2]\n",
      " [0 0]\n",
      " [1 1]\n",
      " [0 2]\n",
      " [1 0]\n",
      " [0 1]\n",
      " [1 2]\n",
      " [0 0]\n",
      " [1 1]\n",
      " [0 2]\n",
      " [1 0]\n",
      " [0 1]\n",
      " [1 2]\n",
      " [0 0]\n",
      " [1 1]\n",
      " [0 2]\n",
      " [1 0]\n",
      " [0 1]\n",
      " [1 2]\n",
      " [0 0]\n",
      " [1 1]\n",
      " [0 2]\n",
      " [1 0]\n",
      " [0 1]\n",
      " [1 2]\n",
      " [0 0]\n",
      " [1 1]\n",
      " [0 2]\n",
      " [1 0]] [[ True  True False False False False  True  True False False False False\n",
      "   True  True False False False False  True  True False False False False\n",
      "   True  True False False False False  True  True False False False False\n",
      "   True  True False False False False  True  True False False False False\n",
      "   True  True False False False False  True  True False False False False\n",
      "   True  True False False False False  True  True False False False False\n",
      "   True  True False False False False  True  True False False False False\n",
      "   True  True False False False False  True  True False False False False\n",
      "   True  True False False]]\n"
     ]
    }
   ],
   "source": [
    "\n",
    "# choose a random seed for reproducible results\n",
    "np.random.seed(1)\n",
    "\n",
    "# learning rate\n",
    "alpha = .1\n",
    "\n",
    "# number of nodes in the hidden layer\n",
    "num_hidden = 3\n",
    "\n",
    "# inputs\n",
    "X = np.array( [[i % 2, i % 3] for i in range(100)] )\n",
    "\n",
    "# outputs\n",
    "# x.T is the transpose of x, making this a column vector\n",
    "y = np.array([[i % 2 == i % 3] for i in range(100)]).T\n",
    "\n",
    "# initialize weights randomly with mean 0 and range [-1, 1]\n",
    "# the +1 in the 1st dimension of the weight matrices is for the bias weight\n",
    "hidden_weights = 2*np.random.random((X.shape[1] + 1, num_hidden)) - 1\n",
    "output_weights = 2*np.random.random((num_hidden + 1, y.shape[1])) - 1\n",
    "\n",
    "# number of iterations of gradient descent\n",
    "num_iterations = 10000\n",
    "print(X, y)"
   ]
  },
  {
   "cell_type": "code",
   "execution_count": 8,
   "metadata": {},
   "outputs": [],
   "source": [
    "# define the sigmoid function\n",
    "def sigmoid(x, derivative=False):\n",
    "\n",
    "    if (derivative == True):\n",
    "        return sigmoid(x,derivative=False) * (1 - sigmoid(x,derivative=False))\n",
    "    else:\n",
    "        return 1 / (1 + np.exp(-x))"
   ]
  },
  {
   "cell_type": "code",
   "execution_count": 9,
   "metadata": {},
   "outputs": [],
   "source": [
    "\n",
    "# for each iteration of gradient descent\n",
    "for i in range(num_iterations):\n",
    "\n",
    "    # forward phase\n",
    "    # np.hstack((np.ones(...), X) adds a fixed input of 1 for the bias weight\n",
    "    input_layer_outputs = np.hstack((np.ones((X.shape[0], 1)), X))\n",
    "    hidden_layer_outputs = np.hstack((np.ones((X.shape[0], 1)), sigmoid(np.dot(input_layer_outputs, hidden_weights))))\n",
    "    output_layer_outputs = np.dot(hidden_layer_outputs, output_weights)\n",
    "\n",
    "    # backward phase\n",
    "    # output layer error term\n",
    "    output_error = output_layer_outputs - y\n",
    "    # hidden layer error term\n",
    "    # [:, 1:] removes the bias term from the backpropagation\n",
    "    hidden_error = hidden_layer_outputs[:, 1:] * (1 - hidden_layer_outputs[:, 1:]) * np.dot(output_error, output_weights.T[:, 1:])\n",
    "\n",
    "    # partial derivatives\n",
    "    hidden_pd = input_layer_outputs[:, :, np.newaxis] * hidden_error[: , np.newaxis, :]\n",
    "    output_pd = hidden_layer_outputs[:, :, np.newaxis] * output_error[:, np.newaxis, :]\n",
    "\n",
    "    # average for total gradients\n",
    "    total_hidden_gradient = np.average(hidden_pd, axis=0)\n",
    "    total_output_gradient = np.average(output_pd, axis=0)\n",
    "\n",
    "    # update weights\n",
    "    hidden_weights += - alpha * total_hidden_gradient\n",
    "    output_weights += - alpha * total_output_gradient\n"
   ]
  },
  {
   "cell_type": "code",
   "execution_count": 10,
   "metadata": {},
   "outputs": [
    {
     "name": "stdout",
     "output_type": "stream",
     "text": [
      "Output After Training: \n",
      "[[ 1.00000000e+00  1.00000000e+00  3.05311332e-16 ...  1.00000000e+00\n",
      "  -2.63677968e-16 -4.16333634e-16]\n",
      " [ 1.00000000e+00  1.00000000e+00 -1.38777878e-16 ...  1.00000000e+00\n",
      "   1.24900090e-16  1.38777878e-16]\n",
      " [ 1.00000000e+00  1.00000000e+00 -5.55111512e-17 ...  1.00000000e+00\n",
      "   6.93889390e-17  5.55111512e-17]\n",
      " ...\n",
      " [ 1.00000000e+00  1.00000000e+00 -1.38777878e-16 ...  1.00000000e+00\n",
      "   1.24900090e-16  1.38777878e-16]\n",
      " [ 1.00000000e+00  1.00000000e+00 -5.55111512e-17 ...  1.00000000e+00\n",
      "   6.93889390e-17  5.55111512e-17]\n",
      " [ 1.00000000e+00  1.00000000e+00  1.11022302e-16 ...  1.00000000e+00\n",
      "  -9.71445147e-17 -8.32667268e-17]]\n"
     ]
    }
   ],
   "source": [
    "\n",
    "# print the final outputs of the neural network on the inputs X\n",
    "print(\"Output After Training: \\n{}\".format(output_layer_outputs))"
   ]
  }
 ],
 "metadata": {
  "kernelspec": {
   "display_name": "Python 3",
   "language": "python",
   "name": "python3"
  },
  "language_info": {
   "codemirror_mode": {
    "name": "ipython",
    "version": 3
   },
   "file_extension": ".py",
   "mimetype": "text/x-python",
   "name": "python",
   "nbconvert_exporter": "python",
   "pygments_lexer": "ipython3",
   "version": "3.11.5"
  }
 },
 "nbformat": 4,
 "nbformat_minor": 2
}
